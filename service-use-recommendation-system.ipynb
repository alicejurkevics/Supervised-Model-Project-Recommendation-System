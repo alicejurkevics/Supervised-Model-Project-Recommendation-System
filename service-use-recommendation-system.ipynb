{
 "cells": [
  {
   "cell_type": "code",
   "execution_count": 1,
   "id": "2d87403a",
   "metadata": {
    "_cell_guid": "b1076dfc-b9ad-4769-8c92-a6c4dae69d19",
    "_uuid": "8f2839f25d086af736a60e9eeb907d3b93b6e0e5",
    "execution": {
     "iopub.execute_input": "2024-03-02T16:17:40.799935Z",
     "iopub.status.busy": "2024-03-02T16:17:40.799368Z",
     "iopub.status.idle": "2024-03-02T16:17:41.948174Z",
     "shell.execute_reply": "2024-03-02T16:17:41.946959Z"
    },
    "papermill": {
     "duration": 1.162118,
     "end_time": "2024-03-02T16:17:41.951211",
     "exception": false,
     "start_time": "2024-03-02T16:17:40.789093",
     "status": "completed"
    },
    "tags": []
   },
   "outputs": [
    {
     "name": "stdout",
     "output_type": "stream",
     "text": [
      "/kaggle/input/small-service-use-data-set/Anonymized_Service_Use.xlsx\n"
     ]
    }
   ],
   "source": [
    "# This Python 3 environment comes with many helpful analytics libraries installed\n",
    "# It is defined by the kaggle/python Docker image: https://github.com/kaggle/docker-python\n",
    "# For example, here's several helpful packages to load\n",
    "\n",
    "import numpy as np # linear algebra\n",
    "import pandas as pd # data processing, CSV file I/O (e.g. pd.read_csv)\n",
    "\n",
    "# Input data files are available in the read-only \"../input/\" directory\n",
    "# For example, running this (by clicking run or pressing Shift+Enter) will list all files under the input directory\n",
    "\n",
    "import os\n",
    "for dirname, _, filenames in os.walk('/kaggle/input'):\n",
    "    for filename in filenames:\n",
    "        print(os.path.join(dirname, filename))\n",
    "\n",
    "# You can write up to 20GB to the current directory (/kaggle/working/) that gets preserved as output when you create a version using \"Save & Run All\" \n",
    "# You can also write temporary files to /kaggle/temp/, but they won't be saved outside of the current session"
   ]
  },
  {
   "cell_type": "code",
   "execution_count": 2,
   "id": "b37c1d7c",
   "metadata": {
    "execution": {
     "iopub.execute_input": "2024-03-02T16:17:41.970803Z",
     "iopub.status.busy": "2024-03-02T16:17:41.968910Z",
     "iopub.status.idle": "2024-03-02T16:17:43.171996Z",
     "shell.execute_reply": "2024-03-02T16:17:43.170580Z"
    },
    "papermill": {
     "duration": 1.216741,
     "end_time": "2024-03-02T16:17:43.176052",
     "exception": false,
     "start_time": "2024-03-02T16:17:41.959311",
     "status": "completed"
    },
    "tags": []
   },
   "outputs": [
    {
     "data": {
      "text/html": [
       "<div>\n",
       "<style scoped>\n",
       "    .dataframe tbody tr th:only-of-type {\n",
       "        vertical-align: middle;\n",
       "    }\n",
       "\n",
       "    .dataframe tbody tr th {\n",
       "        vertical-align: top;\n",
       "    }\n",
       "\n",
       "    .dataframe thead th {\n",
       "        text-align: right;\n",
       "    }\n",
       "</style>\n",
       "<table border=\"1\" class=\"dataframe\">\n",
       "  <thead>\n",
       "    <tr style=\"text-align: right;\">\n",
       "      <th></th>\n",
       "      <th>Customer</th>\n",
       "      <th>Service</th>\n",
       "      <th>Domain</th>\n",
       "      <th>Package</th>\n",
       "      <th>Customer Region</th>\n",
       "      <th>Customer Size Revenue</th>\n",
       "      <th>Customer Size Employees</th>\n",
       "      <th>Likelihood to Recommend Score</th>\n",
       "    </tr>\n",
       "  </thead>\n",
       "  <tbody>\n",
       "    <tr>\n",
       "      <th>0</th>\n",
       "      <td>Customer 1</td>\n",
       "      <td>Service 1</td>\n",
       "      <td>Consultations</td>\n",
       "      <td>Organizational Performance</td>\n",
       "      <td>California</td>\n",
       "      <td>14M-36M</td>\n",
       "      <td>300-500</td>\n",
       "      <td>9</td>\n",
       "    </tr>\n",
       "    <tr>\n",
       "      <th>1</th>\n",
       "      <td>Customer 1</td>\n",
       "      <td>Service 2</td>\n",
       "      <td>Consultations</td>\n",
       "      <td>Organizational Performance</td>\n",
       "      <td>California</td>\n",
       "      <td>14M-36M</td>\n",
       "      <td>300-500</td>\n",
       "      <td>10</td>\n",
       "    </tr>\n",
       "    <tr>\n",
       "      <th>2</th>\n",
       "      <td>Customer 2</td>\n",
       "      <td>Service 2</td>\n",
       "      <td>Consultations</td>\n",
       "      <td>Organizational Performance</td>\n",
       "      <td>Appalachia</td>\n",
       "      <td>14M-36M</td>\n",
       "      <td>Less than 300</td>\n",
       "      <td>10</td>\n",
       "    </tr>\n",
       "    <tr>\n",
       "      <th>3</th>\n",
       "      <td>Customer 3</td>\n",
       "      <td>Service 3</td>\n",
       "      <td>Vendors and Discounts</td>\n",
       "      <td>Brand Activation</td>\n",
       "      <td>Midwest</td>\n",
       "      <td>14M-36M</td>\n",
       "      <td>300-500</td>\n",
       "      <td>7</td>\n",
       "    </tr>\n",
       "    <tr>\n",
       "      <th>4</th>\n",
       "      <td>Customer 4</td>\n",
       "      <td>Service 3</td>\n",
       "      <td>Vendors and Discounts</td>\n",
       "      <td>Brand Activation</td>\n",
       "      <td>Southeast</td>\n",
       "      <td>Greater than 111M</td>\n",
       "      <td>Greater than 1300</td>\n",
       "      <td>8</td>\n",
       "    </tr>\n",
       "  </tbody>\n",
       "</table>\n",
       "</div>"
      ],
      "text/plain": [
       "     Customer    Service                 Domain                     Package  \\\n",
       "0  Customer 1  Service 1          Consultations  Organizational Performance   \n",
       "1  Customer 1  Service 2          Consultations  Organizational Performance   \n",
       "2  Customer 2  Service 2          Consultations  Organizational Performance   \n",
       "3  Customer 3  Service 3  Vendors and Discounts            Brand Activation   \n",
       "4  Customer 4  Service 3  Vendors and Discounts            Brand Activation   \n",
       "\n",
       "  Customer Region Customer Size Revenue Customer Size Employees  \\\n",
       "0      California               14M-36M                 300-500   \n",
       "1      California               14M-36M                 300-500   \n",
       "2      Appalachia               14M-36M           Less than 300   \n",
       "3         Midwest               14M-36M                 300-500   \n",
       "4       Southeast     Greater than 111M       Greater than 1300   \n",
       "\n",
       "   Likelihood to Recommend Score  \n",
       "0                              9  \n",
       "1                             10  \n",
       "2                             10  \n",
       "3                              7  \n",
       "4                              8  "
      ]
     },
     "execution_count": 2,
     "metadata": {},
     "output_type": "execute_result"
    }
   ],
   "source": [
    "df = pd.read_excel('/kaggle/input/small-service-use-data-set/Anonymized_Service_Use.xlsx')\n",
    "df.head()"
   ]
  },
  {
   "cell_type": "code",
   "execution_count": 3,
   "id": "f04d3d35",
   "metadata": {
    "execution": {
     "iopub.execute_input": "2024-03-02T16:17:43.200512Z",
     "iopub.status.busy": "2024-03-02T16:17:43.199721Z",
     "iopub.status.idle": "2024-03-02T16:17:43.242279Z",
     "shell.execute_reply": "2024-03-02T16:17:43.241006Z"
    },
    "papermill": {
     "duration": 0.060584,
     "end_time": "2024-03-02T16:17:43.245407",
     "exception": false,
     "start_time": "2024-03-02T16:17:43.184823",
     "status": "completed"
    },
    "tags": []
   },
   "outputs": [
    {
     "name": "stdout",
     "output_type": "stream",
     "text": [
      "<class 'pandas.core.frame.DataFrame'>\n",
      "RangeIndex: 3572 entries, 0 to 3571\n",
      "Data columns (total 8 columns):\n",
      " #   Column                         Non-Null Count  Dtype \n",
      "---  ------                         --------------  ----- \n",
      " 0   Customer                       3572 non-null   object\n",
      " 1   Service                        3572 non-null   object\n",
      " 2   Domain                         3572 non-null   object\n",
      " 3   Package                        3572 non-null   object\n",
      " 4   Customer Region                3572 non-null   object\n",
      " 5   Customer Size Revenue          3572 non-null   object\n",
      " 6   Customer Size Employees        3572 non-null   object\n",
      " 7   Likelihood to Recommend Score  3572 non-null   int64 \n",
      "dtypes: int64(1), object(7)\n",
      "memory usage: 223.4+ KB\n"
     ]
    }
   ],
   "source": [
    "df.info()"
   ]
  },
  {
   "cell_type": "code",
   "execution_count": 4,
   "id": "1ae215ad",
   "metadata": {
    "execution": {
     "iopub.execute_input": "2024-03-02T16:17:43.266925Z",
     "iopub.status.busy": "2024-03-02T16:17:43.265426Z",
     "iopub.status.idle": "2024-03-02T16:17:43.291711Z",
     "shell.execute_reply": "2024-03-02T16:17:43.290164Z"
    },
    "papermill": {
     "duration": 0.040494,
     "end_time": "2024-03-02T16:17:43.294889",
     "exception": false,
     "start_time": "2024-03-02T16:17:43.254395",
     "status": "completed"
    },
    "tags": []
   },
   "outputs": [
    {
     "data": {
      "text/html": [
       "<div>\n",
       "<style scoped>\n",
       "    .dataframe tbody tr th:only-of-type {\n",
       "        vertical-align: middle;\n",
       "    }\n",
       "\n",
       "    .dataframe tbody tr th {\n",
       "        vertical-align: top;\n",
       "    }\n",
       "\n",
       "    .dataframe thead th {\n",
       "        text-align: right;\n",
       "    }\n",
       "</style>\n",
       "<table border=\"1\" class=\"dataframe\">\n",
       "  <thead>\n",
       "    <tr style=\"text-align: right;\">\n",
       "      <th></th>\n",
       "      <th>Likelihood to Recommend Score</th>\n",
       "      <th>score_counts</th>\n",
       "    </tr>\n",
       "    <tr>\n",
       "      <th>Service</th>\n",
       "      <th></th>\n",
       "      <th></th>\n",
       "    </tr>\n",
       "  </thead>\n",
       "  <tbody>\n",
       "    <tr>\n",
       "      <th>Service 1</th>\n",
       "      <td>9.000000</td>\n",
       "      <td>1</td>\n",
       "    </tr>\n",
       "    <tr>\n",
       "      <th>Service 10</th>\n",
       "      <td>5.548387</td>\n",
       "      <td>31</td>\n",
       "    </tr>\n",
       "    <tr>\n",
       "      <th>Service 11</th>\n",
       "      <td>6.500000</td>\n",
       "      <td>2</td>\n",
       "    </tr>\n",
       "    <tr>\n",
       "      <th>Service 12</th>\n",
       "      <td>6.476190</td>\n",
       "      <td>21</td>\n",
       "    </tr>\n",
       "    <tr>\n",
       "      <th>Service 13</th>\n",
       "      <td>6.437500</td>\n",
       "      <td>16</td>\n",
       "    </tr>\n",
       "  </tbody>\n",
       "</table>\n",
       "</div>"
      ],
      "text/plain": [
       "            Likelihood to Recommend Score  score_counts\n",
       "Service                                                \n",
       "Service 1                        9.000000             1\n",
       "Service 10                       5.548387            31\n",
       "Service 11                       6.500000             2\n",
       "Service 12                       6.476190            21\n",
       "Service 13                       6.437500            16"
      ]
     },
     "execution_count": 4,
     "metadata": {},
     "output_type": "execute_result"
    }
   ],
   "source": [
    "## Creating a new dataframe to visualize mean recommedation score and count of scores by Service since we will be \n",
    "## using those in the recommendation system\n",
    "scores_mean_count = pd.DataFrame(df.groupby('Service')['Likelihood to Recommend Score'].mean())\n",
    "scores_mean_count['score_counts'] = pd.DataFrame(df.groupby('Service')['Likelihood to Recommend Score'].count())\n",
    "scores_mean_count.head()"
   ]
  },
  {
   "cell_type": "code",
   "execution_count": 5,
   "id": "4f56fbeb",
   "metadata": {
    "execution": {
     "iopub.execute_input": "2024-03-02T16:17:43.315056Z",
     "iopub.status.busy": "2024-03-02T16:17:43.313429Z",
     "iopub.status.idle": "2024-03-02T16:17:45.731105Z",
     "shell.execute_reply": "2024-03-02T16:17:45.729485Z"
    },
    "papermill": {
     "duration": 2.431048,
     "end_time": "2024-03-02T16:17:45.734361",
     "exception": false,
     "start_time": "2024-03-02T16:17:43.303313",
     "status": "completed"
    },
    "tags": []
   },
   "outputs": [
    {
     "data": {
      "text/plain": [
       "<Axes: >"
      ]
     },
     "execution_count": 5,
     "metadata": {},
     "output_type": "execute_result"
    },
    {
     "data": {
      "image/png": "[encoded data removed]",
      "text/plain": [
       "<Figure size 600x400 with 1 Axes>"
      ]
     },
     "metadata": {},
     "output_type": "display_data"
    }
   ],
   "source": [
    "## Creating a Histogram to look at the number of scores for each Service\n",
    "\n",
    "import matplotlib.pyplot as plt\n",
    "import seaborn as sns\n",
    "sns.set_style('dark')\n",
    "%matplotlib inline\n",
    "\n",
    "plt.figure(figsize=(6,4))\n",
    "plt.rcParams['patch.force_edgecolor'] = True\n",
    "scores_mean_count['score_counts'].hist(bins=8)"
   ]
  },
  {
   "cell_type": "code",
   "execution_count": 6,
   "id": "41f4b5ab",
   "metadata": {
    "execution": {
     "iopub.execute_input": "2024-03-02T16:17:45.754241Z",
     "iopub.status.busy": "2024-03-02T16:17:45.753212Z",
     "iopub.status.idle": "2024-03-02T16:17:46.175192Z",
     "shell.execute_reply": "2024-03-02T16:17:46.173581Z"
    },
    "papermill": {
     "duration": 0.435272,
     "end_time": "2024-03-02T16:17:46.178334",
     "exception": false,
     "start_time": "2024-03-02T16:17:45.743062",
     "status": "completed"
    },
    "tags": []
   },
   "outputs": [
    {
     "data": {
      "text/plain": [
       "<Axes: >"
      ]
     },
     "execution_count": 6,
     "metadata": {},
     "output_type": "execute_result"
    },
    {
     "data": {
      "image/png": "[encoded data removed]",
      "text/plain": [
       "<Figure size 600x400 with 1 Axes>"
      ]
     },
     "metadata": {},
     "output_type": "display_data"
    }
   ],
   "source": [
    "## Also looking at average scores per Service\n",
    "\n",
    "plt.figure(figsize=(6,4))\n",
    "plt.rcParams['patch.force_edgecolor'] = True\n",
    "scores_mean_count['Likelihood to Recommend Score'].hist(bins=10)"
   ]
  },
  {
   "cell_type": "code",
   "execution_count": 7,
   "id": "360b0963",
   "metadata": {
    "execution": {
     "iopub.execute_input": "2024-03-02T16:17:46.199921Z",
     "iopub.status.busy": "2024-03-02T16:17:46.199424Z",
     "iopub.status.idle": "2024-03-02T16:17:47.246393Z",
     "shell.execute_reply": "2024-03-02T16:17:47.244612Z"
    },
    "papermill": {
     "duration": 1.060987,
     "end_time": "2024-03-02T16:17:47.249459",
     "exception": false,
     "start_time": "2024-03-02T16:17:46.188472",
     "status": "completed"
    },
    "tags": []
   },
   "outputs": [
    {
     "name": "stderr",
     "output_type": "stream",
     "text": [
      "/opt/conda/lib/python3.10/site-packages/seaborn/_oldcore.py:1119: FutureWarning: use_inf_as_na option is deprecated and will be removed in a future version. Convert inf values to NaN before operating instead.\n",
      "  with pd.option_context('mode.use_inf_as_na', True):\n",
      "/opt/conda/lib/python3.10/site-packages/seaborn/_oldcore.py:1119: FutureWarning: use_inf_as_na option is deprecated and will be removed in a future version. Convert inf values to NaN before operating instead.\n",
      "  with pd.option_context('mode.use_inf_as_na', True):\n"
     ]
    },
    {
     "data": {
      "text/plain": [
       "<seaborn.axisgrid.JointGrid at 0x7cfb6f0e3c70>"
      ]
     },
     "execution_count": 7,
     "metadata": {},
     "output_type": "execute_result"
    },
    {
     "data": {
      "text/plain": [
       "<Figure size 400x200 with 0 Axes>"
      ]
     },
     "metadata": {},
     "output_type": "display_data"
    },
    {
     "data": {
      "image/png": "[encoded data removed]",
      "text/plain": [
       "<Figure size 600x600 with 3 Axes>"
      ]
     },
     "metadata": {},
     "output_type": "display_data"
    }
   ],
   "source": [
    "## Creating a scatterplot to look at the average scores against the number of scores\n",
    "\n",
    "plt.figure(figsize=(4,2))\n",
    "plt.rcParams['patch.force_edgecolor'] = True\n",
    "sns.jointplot(x='Likelihood to Recommend Score', y='score_counts', data=scores_mean_count, alpha=0.4)"
   ]
  },
  {
   "cell_type": "code",
   "execution_count": 8,
   "id": "9d637118",
   "metadata": {
    "execution": {
     "iopub.execute_input": "2024-03-02T16:17:47.272436Z",
     "iopub.status.busy": "2024-03-02T16:17:47.271937Z",
     "iopub.status.idle": "2024-03-02T16:17:48.319244Z",
     "shell.execute_reply": "2024-03-02T16:17:48.317494Z"
    },
    "papermill": {
     "duration": 1.062486,
     "end_time": "2024-03-02T16:17:48.322659",
     "exception": false,
     "start_time": "2024-03-02T16:17:47.260173",
     "status": "completed"
    },
    "tags": []
   },
   "outputs": [
    {
     "name": "stdout",
     "output_type": "stream",
     "text": [
      "            Likelihood to Recommend Score  score_counts\n",
      "Service                                                \n",
      "Service 1                        9.000000             1\n",
      "Service 11                       6.500000             2\n",
      "Service 17                       8.500000             2\n",
      "Service 2                       10.000000             2\n",
      "Service 29                       7.000000             1\n",
      "Service 30                       8.000000             2\n",
      "Service 34                       7.500000             2\n",
      "Service 43                       5.333333             3\n",
      "Service 48                       8.400000             5\n",
      "Service 54                       9.000000             3\n",
      "Service 56                       2.000000             1\n",
      "Service 58                       3.000000             2\n",
      "Service 60                       4.000000             3\n",
      "Service 62                       7.500000             2\n",
      "Service 68                       2.000000             1\n",
      "Service 72                       9.666667             3\n",
      "Service 76                       7.666667             3\n",
      "Service 78                       5.333333             3\n",
      "Service 79                       6.800000             5\n",
      "Service 80                       5.000000             1\n"
     ]
    },
    {
     "name": "stderr",
     "output_type": "stream",
     "text": [
      "/opt/conda/lib/python3.10/site-packages/seaborn/_oldcore.py:1119: FutureWarning: use_inf_as_na option is deprecated and will be removed in a future version. Convert inf values to NaN before operating instead.\n",
      "  with pd.option_context('mode.use_inf_as_na', True):\n",
      "/opt/conda/lib/python3.10/site-packages/seaborn/_oldcore.py:1119: FutureWarning: use_inf_as_na option is deprecated and will be removed in a future version. Convert inf values to NaN before operating instead.\n",
      "  with pd.option_context('mode.use_inf_as_na', True):\n"
     ]
    },
    {
     "data": {
      "text/plain": [
       "<seaborn.axisgrid.JointGrid at 0x7cfb472b47c0>"
      ]
     },
     "execution_count": 8,
     "metadata": {},
     "output_type": "execute_result"
    },
    {
     "data": {
      "text/plain": [
       "<Figure size 400x200 with 0 Axes>"
      ]
     },
     "metadata": {},
     "output_type": "display_data"
    },
    {
     "data": {
      "image/png": "[encoded data removed]",
      "text/plain": [
       "<Figure size 600x600 with 3 Axes>"
      ]
     },
     "metadata": {},
     "output_type": "display_data"
    }
   ],
   "source": [
    "#we should remove the services that don't have a lot scores from the data, as there is probably not enough data to determine\n",
    "#whether or not they should be recommended, and also that is where we are seeing the outlier low scores.\n",
    "\n",
    "# Use boolean indexing to extract the names services with score count lower than or equal to 5\n",
    "result = scores_mean_count.loc[scores_mean_count['score_counts'] <= 5]\n",
    "\n",
    "print(result)\n",
    "\n",
    "scores_mean_count_clean = scores_mean_count[scores_mean_count.score_counts > 5]\n",
    "\n",
    "\n",
    "#look at that scatterplot for the cleaned data\n",
    "plt.figure(figsize=(4,2))\n",
    "plt.rcParams['patch.force_edgecolor'] = True\n",
    "sns.jointplot(x='Likelihood to Recommend Score', y='score_counts', data=scores_mean_count_clean, alpha=0.4)"
   ]
  },
  {
   "cell_type": "code",
   "execution_count": 9,
   "id": "e48f2ff7",
   "metadata": {
    "execution": {
     "iopub.execute_input": "2024-03-02T16:17:48.349734Z",
     "iopub.status.busy": "2024-03-02T16:17:48.349265Z",
     "iopub.status.idle": "2024-03-02T16:17:48.414274Z",
     "shell.execute_reply": "2024-03-02T16:17:48.412026Z"
    },
    "papermill": {
     "duration": 0.081664,
     "end_time": "2024-03-02T16:17:48.417418",
     "exception": false,
     "start_time": "2024-03-02T16:17:48.335754",
     "status": "completed"
    },
    "tags": []
   },
   "outputs": [
    {
     "name": "stdout",
     "output_type": "stream",
     "text": [
      "<class 'pandas.core.frame.DataFrame'>\n",
      "Index: 3525 entries, 3 to 3571\n",
      "Data columns (total 8 columns):\n",
      " #   Column                         Non-Null Count  Dtype \n",
      "---  ------                         --------------  ----- \n",
      " 0   Customer                       3525 non-null   object\n",
      " 1   Service                        3525 non-null   object\n",
      " 2   Domain                         3525 non-null   object\n",
      " 3   Package                        3525 non-null   object\n",
      " 4   Customer Region                3525 non-null   object\n",
      " 5   Customer Size Revenue          3525 non-null   object\n",
      " 6   Customer Size Employees        3525 non-null   object\n",
      " 7   Likelihood to Recommend Score  3525 non-null   int64 \n",
      "dtypes: int64(1), object(7)\n",
      "memory usage: 247.9+ KB\n"
     ]
    }
   ],
   "source": [
    "#creating a new clean dataframe to work with\n",
    "df_clean = df[df.Service != \"Service 1\"]\n",
    "df_clean = df_clean[df_clean.Service != \"Service 11\"]\n",
    "df_clean = df_clean[df_clean.Service != \"Service 17\"]\n",
    "df_clean = df_clean[df_clean.Service != \"Service 2\"]\n",
    "df_clean = df_clean[df_clean.Service != \"Service 29\"]\n",
    "df_clean = df_clean[df_clean.Service != \"Service 30\"]\n",
    "df_clean = df_clean[df_clean.Service != \"Service 34\"]\n",
    "df_clean = df_clean[df_clean.Service != \"Service 43\"]\n",
    "df_clean = df_clean[df_clean.Service != \"Service 48\"]\n",
    "df_clean = df_clean[df_clean.Service != \"Service 54\"]\n",
    "df_clean = df_clean[df_clean.Service != \"Service 56\"]\n",
    "df_clean = df_clean[df_clean.Service != \"Service 58\"]\n",
    "df_clean = df_clean[df_clean.Service != \"Service 60\"]\n",
    "df_clean = df_clean[df_clean.Service != \"Service 62\"]\n",
    "df_clean = df_clean[df_clean.Service != \"Service 68\"]\n",
    "df_clean = df_clean[df_clean.Service != \"Service 72\"]\n",
    "df_clean = df_clean[df_clean.Service != \"Service 76\"]\n",
    "df_clean = df_clean[df_clean.Service != \"Service 78\"]\n",
    "df_clean = df_clean[df_clean.Service != \"Service 79\"]\n",
    "df_clean = df_clean[df_clean.Service != \"Service 80\"]\n",
    "\n",
    "df_clean.info()"
   ]
  },
  {
   "cell_type": "code",
   "execution_count": 10,
   "id": "e8cc0372",
   "metadata": {
    "execution": {
     "iopub.execute_input": "2024-03-02T16:17:48.442790Z",
     "iopub.status.busy": "2024-03-02T16:17:48.442275Z",
     "iopub.status.idle": "2024-03-02T16:17:48.800282Z",
     "shell.execute_reply": "2024-03-02T16:17:48.798770Z"
    },
    "papermill": {
     "duration": 0.374353,
     "end_time": "2024-03-02T16:17:48.803144",
     "exception": false,
     "start_time": "2024-03-02T16:17:48.428791",
     "status": "completed"
    },
    "tags": []
   },
   "outputs": [
    {
     "data": {
      "text/plain": [
       "<Axes: >"
      ]
     },
     "execution_count": 10,
     "metadata": {},
     "output_type": "execute_result"
    },
    {
     "data": {
      "image/png": "[encoded data removed]",
      "text/plain": [
       "<Figure size 640x480 with 2 Axes>"
      ]
     },
     "metadata": {},
     "output_type": "display_data"
    }
   ],
   "source": [
    "# For awareness, let's look at the correlation matrix in the cleaned dataframe\n",
    "\n",
    "matrix = scores_mean_count_clean.corr()\n",
    "\n",
    "#plotting correlation matrix \n",
    "sns.heatmap(matrix, cmap=\"Greens\", annot=True)"
   ]
  },
  {
   "cell_type": "code",
   "execution_count": 11,
   "id": "51388f7c",
   "metadata": {
    "execution": {
     "iopub.execute_input": "2024-03-02T16:17:48.830911Z",
     "iopub.status.busy": "2024-03-02T16:17:48.830434Z",
     "iopub.status.idle": "2024-03-02T16:17:48.883884Z",
     "shell.execute_reply": "2024-03-02T16:17:48.882632Z"
    },
    "papermill": {
     "duration": 0.071481,
     "end_time": "2024-03-02T16:17:48.887143",
     "exception": false,
     "start_time": "2024-03-02T16:17:48.815662",
     "status": "completed"
    },
    "tags": []
   },
   "outputs": [
    {
     "data": {
      "text/html": [
       "<div>\n",
       "<style scoped>\n",
       "    .dataframe tbody tr th:only-of-type {\n",
       "        vertical-align: middle;\n",
       "    }\n",
       "\n",
       "    .dataframe tbody tr th {\n",
       "        vertical-align: top;\n",
       "    }\n",
       "\n",
       "    .dataframe thead th {\n",
       "        text-align: right;\n",
       "    }\n",
       "</style>\n",
       "<table border=\"1\" class=\"dataframe\">\n",
       "  <thead>\n",
       "    <tr style=\"text-align: right;\">\n",
       "      <th>Service</th>\n",
       "      <th>Service 10</th>\n",
       "      <th>Service 12</th>\n",
       "      <th>Service 13</th>\n",
       "      <th>Service 14</th>\n",
       "      <th>Service 15</th>\n",
       "      <th>Service 16</th>\n",
       "      <th>Service 18</th>\n",
       "      <th>Service 19</th>\n",
       "      <th>Service 20</th>\n",
       "      <th>Service 21</th>\n",
       "      <th>...</th>\n",
       "      <th>Service 7</th>\n",
       "      <th>Service 70</th>\n",
       "      <th>Service 71</th>\n",
       "      <th>Service 73</th>\n",
       "      <th>Service 74</th>\n",
       "      <th>Service 75</th>\n",
       "      <th>Service 77</th>\n",
       "      <th>Service 8</th>\n",
       "      <th>Service 81</th>\n",
       "      <th>Service 9</th>\n",
       "    </tr>\n",
       "    <tr>\n",
       "      <th>Customer</th>\n",
       "      <th></th>\n",
       "      <th></th>\n",
       "      <th></th>\n",
       "      <th></th>\n",
       "      <th></th>\n",
       "      <th></th>\n",
       "      <th></th>\n",
       "      <th></th>\n",
       "      <th></th>\n",
       "      <th></th>\n",
       "      <th></th>\n",
       "      <th></th>\n",
       "      <th></th>\n",
       "      <th></th>\n",
       "      <th></th>\n",
       "      <th></th>\n",
       "      <th></th>\n",
       "      <th></th>\n",
       "      <th></th>\n",
       "      <th></th>\n",
       "      <th></th>\n",
       "    </tr>\n",
       "  </thead>\n",
       "  <tbody>\n",
       "    <tr>\n",
       "      <th>Customer 1</th>\n",
       "      <td>NaN</td>\n",
       "      <td>NaN</td>\n",
       "      <td>NaN</td>\n",
       "      <td>NaN</td>\n",
       "      <td>7.0</td>\n",
       "      <td>7.0</td>\n",
       "      <td>5.0</td>\n",
       "      <td>NaN</td>\n",
       "      <td>3.0</td>\n",
       "      <td>7.0</td>\n",
       "      <td>...</td>\n",
       "      <td>6.0</td>\n",
       "      <td>NaN</td>\n",
       "      <td>NaN</td>\n",
       "      <td>8.0</td>\n",
       "      <td>NaN</td>\n",
       "      <td>NaN</td>\n",
       "      <td>3.0</td>\n",
       "      <td>4.0</td>\n",
       "      <td>NaN</td>\n",
       "      <td>NaN</td>\n",
       "    </tr>\n",
       "    <tr>\n",
       "      <th>Customer 10</th>\n",
       "      <td>10.0</td>\n",
       "      <td>NaN</td>\n",
       "      <td>NaN</td>\n",
       "      <td>5.0</td>\n",
       "      <td>6.0</td>\n",
       "      <td>NaN</td>\n",
       "      <td>6.0</td>\n",
       "      <td>NaN</td>\n",
       "      <td>9.0</td>\n",
       "      <td>NaN</td>\n",
       "      <td>...</td>\n",
       "      <td>2.0</td>\n",
       "      <td>6.0</td>\n",
       "      <td>NaN</td>\n",
       "      <td>9.0</td>\n",
       "      <td>NaN</td>\n",
       "      <td>NaN</td>\n",
       "      <td>NaN</td>\n",
       "      <td>NaN</td>\n",
       "      <td>6.0</td>\n",
       "      <td>NaN</td>\n",
       "    </tr>\n",
       "    <tr>\n",
       "      <th>Customer 100</th>\n",
       "      <td>NaN</td>\n",
       "      <td>NaN</td>\n",
       "      <td>NaN</td>\n",
       "      <td>NaN</td>\n",
       "      <td>5.0</td>\n",
       "      <td>NaN</td>\n",
       "      <td>6.0</td>\n",
       "      <td>NaN</td>\n",
       "      <td>7.0</td>\n",
       "      <td>2.0</td>\n",
       "      <td>...</td>\n",
       "      <td>2.0</td>\n",
       "      <td>NaN</td>\n",
       "      <td>NaN</td>\n",
       "      <td>7.0</td>\n",
       "      <td>NaN</td>\n",
       "      <td>1.0</td>\n",
       "      <td>6.0</td>\n",
       "      <td>NaN</td>\n",
       "      <td>NaN</td>\n",
       "      <td>7.0</td>\n",
       "    </tr>\n",
       "    <tr>\n",
       "      <th>Customer 101</th>\n",
       "      <td>NaN</td>\n",
       "      <td>NaN</td>\n",
       "      <td>NaN</td>\n",
       "      <td>NaN</td>\n",
       "      <td>7.0</td>\n",
       "      <td>NaN</td>\n",
       "      <td>8.0</td>\n",
       "      <td>NaN</td>\n",
       "      <td>NaN</td>\n",
       "      <td>NaN</td>\n",
       "      <td>...</td>\n",
       "      <td>2.0</td>\n",
       "      <td>6.0</td>\n",
       "      <td>NaN</td>\n",
       "      <td>NaN</td>\n",
       "      <td>NaN</td>\n",
       "      <td>5.0</td>\n",
       "      <td>NaN</td>\n",
       "      <td>NaN</td>\n",
       "      <td>NaN</td>\n",
       "      <td>NaN</td>\n",
       "    </tr>\n",
       "    <tr>\n",
       "      <th>Customer 102</th>\n",
       "      <td>NaN</td>\n",
       "      <td>NaN</td>\n",
       "      <td>NaN</td>\n",
       "      <td>NaN</td>\n",
       "      <td>NaN</td>\n",
       "      <td>NaN</td>\n",
       "      <td>4.0</td>\n",
       "      <td>NaN</td>\n",
       "      <td>NaN</td>\n",
       "      <td>NaN</td>\n",
       "      <td>...</td>\n",
       "      <td>4.0</td>\n",
       "      <td>8.0</td>\n",
       "      <td>NaN</td>\n",
       "      <td>8.0</td>\n",
       "      <td>NaN</td>\n",
       "      <td>7.0</td>\n",
       "      <td>1.0</td>\n",
       "      <td>NaN</td>\n",
       "      <td>NaN</td>\n",
       "      <td>NaN</td>\n",
       "    </tr>\n",
       "  </tbody>\n",
       "</table>\n",
       "<p>5 rows × 61 columns</p>\n",
       "</div>"
      ],
      "text/plain": [
       "Service       Service 10  Service 12  Service 13  Service 14  Service 15  \\\n",
       "Customer                                                                   \n",
       "Customer 1           NaN         NaN         NaN         NaN         7.0   \n",
       "Customer 10         10.0         NaN         NaN         5.0         6.0   \n",
       "Customer 100         NaN         NaN         NaN         NaN         5.0   \n",
       "Customer 101         NaN         NaN         NaN         NaN         7.0   \n",
       "Customer 102         NaN         NaN         NaN         NaN         NaN   \n",
       "\n",
       "Service       Service 16  Service 18  Service 19  Service 20  Service 21  ...  \\\n",
       "Customer                                                                  ...   \n",
       "Customer 1           7.0         5.0         NaN         3.0         7.0  ...   \n",
       "Customer 10          NaN         6.0         NaN         9.0         NaN  ...   \n",
       "Customer 100         NaN         6.0         NaN         7.0         2.0  ...   \n",
       "Customer 101         NaN         8.0         NaN         NaN         NaN  ...   \n",
       "Customer 102         NaN         4.0         NaN         NaN         NaN  ...   \n",
       "\n",
       "Service       Service 7  Service 70  Service 71  Service 73  Service 74  \\\n",
       "Customer                                                                  \n",
       "Customer 1          6.0         NaN         NaN         8.0         NaN   \n",
       "Customer 10         2.0         6.0         NaN         9.0         NaN   \n",
       "Customer 100        2.0         NaN         NaN         7.0         NaN   \n",
       "Customer 101        2.0         6.0         NaN         NaN         NaN   \n",
       "Customer 102        4.0         8.0         NaN         8.0         NaN   \n",
       "\n",
       "Service       Service 75  Service 77  Service 8  Service 81  Service 9  \n",
       "Customer                                                                \n",
       "Customer 1           NaN         3.0        4.0         NaN        NaN  \n",
       "Customer 10          NaN         NaN        NaN         6.0        NaN  \n",
       "Customer 100         1.0         6.0        NaN         NaN        7.0  \n",
       "Customer 101         5.0         NaN        NaN         NaN        NaN  \n",
       "Customer 102         7.0         1.0        NaN         NaN        NaN  \n",
       "\n",
       "[5 rows x 61 columns]"
      ]
     },
     "execution_count": 11,
     "metadata": {},
     "output_type": "execute_result"
    }
   ],
   "source": [
    "#create a matrix to house the recommendation scores given to services by customers\n",
    "customer_service_score = df_clean.pivot_table(index='Customer', columns='Service', values='Likelihood to Recommend Score')\n",
    "customer_service_score.head()"
   ]
  },
  {
   "cell_type": "code",
   "execution_count": 12,
   "id": "d528f326",
   "metadata": {
    "execution": {
     "iopub.execute_input": "2024-03-02T16:17:48.915294Z",
     "iopub.status.busy": "2024-03-02T16:17:48.914344Z",
     "iopub.status.idle": "2024-03-02T16:17:48.950925Z",
     "shell.execute_reply": "2024-03-02T16:17:48.949637Z"
    },
    "papermill": {
     "duration": 0.054029,
     "end_time": "2024-03-02T16:17:48.954396",
     "exception": false,
     "start_time": "2024-03-02T16:17:48.900367",
     "status": "completed"
    },
    "tags": []
   },
   "outputs": [
    {
     "data": {
      "text/html": [
       "<div>\n",
       "<style scoped>\n",
       "    .dataframe tbody tr th:only-of-type {\n",
       "        vertical-align: middle;\n",
       "    }\n",
       "\n",
       "    .dataframe tbody tr th {\n",
       "        vertical-align: top;\n",
       "    }\n",
       "\n",
       "    .dataframe thead th {\n",
       "        text-align: right;\n",
       "    }\n",
       "</style>\n",
       "<table border=\"1\" class=\"dataframe\">\n",
       "  <thead>\n",
       "    <tr style=\"text-align: right;\">\n",
       "      <th></th>\n",
       "      <th>Correlation</th>\n",
       "    </tr>\n",
       "    <tr>\n",
       "      <th>Service</th>\n",
       "      <th></th>\n",
       "    </tr>\n",
       "  </thead>\n",
       "  <tbody>\n",
       "    <tr>\n",
       "      <th>Service 5</th>\n",
       "      <td>1.000000</td>\n",
       "    </tr>\n",
       "    <tr>\n",
       "      <th>Service 41</th>\n",
       "      <td>0.513405</td>\n",
       "    </tr>\n",
       "    <tr>\n",
       "      <th>Service 19</th>\n",
       "      <td>0.440670</td>\n",
       "    </tr>\n",
       "    <tr>\n",
       "      <th>Service 14</th>\n",
       "      <td>0.372678</td>\n",
       "    </tr>\n",
       "    <tr>\n",
       "      <th>Service 31</th>\n",
       "      <td>0.364698</td>\n",
       "    </tr>\n",
       "  </tbody>\n",
       "</table>\n",
       "</div>"
      ],
      "text/plain": [
       "            Correlation\n",
       "Service                \n",
       "Service 5      1.000000\n",
       "Service 41     0.513405\n",
       "Service 19     0.440670\n",
       "Service 14     0.372678\n",
       "Service 31     0.364698"
      ]
     },
     "execution_count": 12,
     "metadata": {},
     "output_type": "execute_result"
    }
   ],
   "source": [
    "#recommend services that are like service 5\n",
    "\n",
    "service_five_ratings = customer_service_score['Service 5']\n",
    "services_like_five = customer_service_score.corrwith(service_five_ratings)\n",
    "\n",
    "corr_service_five = pd.DataFrame(services_like_five, columns=['Correlation'])\n",
    "corr_service_five.dropna(inplace=True)\n",
    "\n",
    "corr_service_five.sort_values('Correlation', ascending=False).head(5)"
   ]
  },
  {
   "cell_type": "code",
   "execution_count": 13,
   "id": "fa30aab6",
   "metadata": {
    "execution": {
     "iopub.execute_input": "2024-03-02T16:17:48.982440Z",
     "iopub.status.busy": "2024-03-02T16:17:48.981998Z",
     "iopub.status.idle": "2024-03-02T16:18:08.207068Z",
     "shell.execute_reply": "2024-03-02T16:18:08.205570Z"
    },
    "papermill": {
     "duration": 19.242481,
     "end_time": "2024-03-02T16:18:08.210319",
     "exception": false,
     "start_time": "2024-03-02T16:17:48.967838",
     "status": "completed"
    },
    "tags": []
   },
   "outputs": [
    {
     "name": "stdout",
     "output_type": "stream",
     "text": [
      "Collecting surprise\r\n",
      "  Downloading surprise-0.1-py2.py3-none-any.whl (1.8 kB)\r\n",
      "Requirement already satisfied: scikit-surprise in /opt/conda/lib/python3.10/site-packages (from surprise) (1.1.3)\r\n",
      "Requirement already satisfied: joblib>=1.0.0 in /opt/conda/lib/python3.10/site-packages (from scikit-surprise->surprise) (1.3.2)\r\n",
      "Requirement already satisfied: numpy>=1.17.3 in /opt/conda/lib/python3.10/site-packages (from scikit-surprise->surprise) (1.24.4)\r\n",
      "Requirement already satisfied: scipy>=1.3.2 in /opt/conda/lib/python3.10/site-packages (from scikit-surprise->surprise) (1.11.4)\r\n",
      "Installing collected packages: surprise\r\n",
      "Successfully installed surprise-0.1\r\n"
     ]
    }
   ],
   "source": [
    "#importing surprise and the packages that we might use\n",
    "\n",
    "!pip install surprise\n",
    "from surprise import Reader, Dataset, accuracy\n",
    "from surprise.model_selection import cross_validate, GridSearchCV\n",
    "from surprise.prediction_algorithms import SVD, KNNBasic, KNNBaseline"
   ]
  },
  {
   "cell_type": "code",
   "execution_count": 14,
   "id": "53aaac24",
   "metadata": {
    "execution": {
     "iopub.execute_input": "2024-03-02T16:18:08.241140Z",
     "iopub.status.busy": "2024-03-02T16:18:08.239937Z",
     "iopub.status.idle": "2024-03-02T16:18:08.259559Z",
     "shell.execute_reply": "2024-03-02T16:18:08.258487Z"
    },
    "papermill": {
     "duration": 0.039205,
     "end_time": "2024-03-02T16:18:08.262845",
     "exception": false,
     "start_time": "2024-03-02T16:18:08.223640",
     "status": "completed"
    },
    "tags": []
   },
   "outputs": [
    {
     "data": {
      "text/html": [
       "<div>\n",
       "<style scoped>\n",
       "    .dataframe tbody tr th:only-of-type {\n",
       "        vertical-align: middle;\n",
       "    }\n",
       "\n",
       "    .dataframe tbody tr th {\n",
       "        vertical-align: top;\n",
       "    }\n",
       "\n",
       "    .dataframe thead th {\n",
       "        text-align: right;\n",
       "    }\n",
       "</style>\n",
       "<table border=\"1\" class=\"dataframe\">\n",
       "  <thead>\n",
       "    <tr style=\"text-align: right;\">\n",
       "      <th></th>\n",
       "      <th>Customer</th>\n",
       "      <th>Service</th>\n",
       "      <th>Likelihood to Recommend Score</th>\n",
       "    </tr>\n",
       "  </thead>\n",
       "  <tbody>\n",
       "    <tr>\n",
       "      <th>3</th>\n",
       "      <td>Customer 3</td>\n",
       "      <td>Service 3</td>\n",
       "      <td>7</td>\n",
       "    </tr>\n",
       "    <tr>\n",
       "      <th>4</th>\n",
       "      <td>Customer 4</td>\n",
       "      <td>Service 3</td>\n",
       "      <td>8</td>\n",
       "    </tr>\n",
       "    <tr>\n",
       "      <th>5</th>\n",
       "      <td>Customer 5</td>\n",
       "      <td>Service 3</td>\n",
       "      <td>6</td>\n",
       "    </tr>\n",
       "    <tr>\n",
       "      <th>6</th>\n",
       "      <td>Customer 6</td>\n",
       "      <td>Service 3</td>\n",
       "      <td>5</td>\n",
       "    </tr>\n",
       "    <tr>\n",
       "      <th>7</th>\n",
       "      <td>Customer 7</td>\n",
       "      <td>Service 3</td>\n",
       "      <td>7</td>\n",
       "    </tr>\n",
       "  </tbody>\n",
       "</table>\n",
       "</div>"
      ],
      "text/plain": [
       "     Customer    Service  Likelihood to Recommend Score\n",
       "3  Customer 3  Service 3                              7\n",
       "4  Customer 4  Service 3                              8\n",
       "5  Customer 5  Service 3                              6\n",
       "6  Customer 6  Service 3                              5\n",
       "7  Customer 7  Service 3                              7"
      ]
     },
     "execution_count": 14,
     "metadata": {},
     "output_type": "execute_result"
    }
   ],
   "source": [
    "#moving forward, we really only want the customer, Service and Likelihood to Recommend columns from the data, let's drop the rest\n",
    "df_clean.drop(['Domain', 'Package', 'Customer Region', 'Customer Size Revenue', 'Customer Size Employees'], axis=1, inplace=True)\n",
    "df_clean.head()"
   ]
  },
  {
   "cell_type": "code",
   "execution_count": 15,
   "id": "7df9ff80",
   "metadata": {
    "execution": {
     "iopub.execute_input": "2024-03-02T16:18:08.294267Z",
     "iopub.status.busy": "2024-03-02T16:18:08.293744Z",
     "iopub.status.idle": "2024-03-02T16:18:08.855632Z",
     "shell.execute_reply": "2024-03-02T16:18:08.854309Z"
    },
    "papermill": {
     "duration": 0.580412,
     "end_time": "2024-03-02T16:18:08.858441",
     "exception": false,
     "start_time": "2024-03-02T16:18:08.278029",
     "status": "completed"
    },
    "tags": []
   },
   "outputs": [
    {
     "name": "stdout",
     "output_type": "stream",
     "text": [
      "Computing the cosine similarity matrix...\n",
      "Done computing similarity matrix.\n",
      "RMSE: 0.5576\n"
     ]
    },
    {
     "data": {
      "text/plain": [
       "0.5576103207627805"
      ]
     },
     "execution_count": 15,
     "metadata": {},
     "output_type": "execute_result"
    }
   ],
   "source": [
    "from sklearn.model_selection import train_test_split\n",
    "\n",
    "#reading data into format that Surprise likes\n",
    "reader = Reader(rating_scale=(1, 10))\n",
    "data = Dataset.load_from_df(df_clean[['Customer', 'Service', 'Likelihood to Recommend Score']], reader)\n",
    "\n",
    "#make test and train data\n",
    "trainset = data.build_full_trainset()\n",
    "testset = trainset.build_anti_testset()\n",
    "\n",
    "#specify that we want to use the KNN basic algorithm\n",
    "sim_options = {\n",
    "    \"name\": \"cosine\",\n",
    "    \"user_based\": False,  # compute  similarities between items\n",
    "}\n",
    "algo = KNNBasic(sim_options=sim_options)\n",
    "\n",
    "#make predictions and return the RMSE for the model\n",
    "predictions = algo.fit(trainset).test(testset)\n",
    "accuracy.rmse(predictions)"
   ]
  },
  {
   "cell_type": "code",
   "execution_count": 16,
   "id": "cd7e61b8",
   "metadata": {
    "execution": {
     "iopub.execute_input": "2024-03-02T16:18:08.888565Z",
     "iopub.status.busy": "2024-03-02T16:18:08.888048Z",
     "iopub.status.idle": "2024-03-02T16:18:10.314230Z",
     "shell.execute_reply": "2024-03-02T16:18:10.312527Z"
    },
    "papermill": {
     "duration": 1.445152,
     "end_time": "2024-03-02T16:18:10.317838",
     "exception": false,
     "start_time": "2024-03-02T16:18:08.872686",
     "status": "completed"
    },
    "tags": []
   },
   "outputs": [
    {
     "name": "stdout",
     "output_type": "stream",
     "text": [
      "Estimating biases using als...\n",
      "Computing the msd similarity matrix...\n",
      "Done computing similarity matrix.\n",
      "Estimating biases using als...\n",
      "Computing the msd similarity matrix...\n",
      "Done computing similarity matrix.\n",
      "Estimating biases using als...\n",
      "Computing the msd similarity matrix...\n",
      "Done computing similarity matrix.\n",
      "Computing the msd similarity matrix...\n",
      "Done computing similarity matrix.\n",
      "Computing the msd similarity matrix...\n",
      "Done computing similarity matrix.\n",
      "Computing the msd similarity matrix...\n",
      "Done computing similarity matrix.\n",
      "             test_rmse  fit_time  test_time\n",
      "Algorithm                                  \n",
      "KNNBaseline   2.230029  0.006854   0.226934\n",
      "KNNBasic      2.231394  0.003750   0.170677\n",
      "SVD           2.272190  0.031651   0.010284\n"
     ]
    }
   ],
   "source": [
    "benchmark = []\n",
    "\n",
    "# Iterate over all algorithms\n",
    "for algorithm in [SVD(), KNNBaseline(), KNNBasic()]:\n",
    "    # Perform cross validation\n",
    "    results = cross_validate(algorithm, data, measures=['RMSE'], cv=3, verbose=False)\n",
    "    \n",
    "    # Get results & append algorithm name\n",
    "    tmp = pd.DataFrame.from_dict(results).mean(axis=0)\n",
    "    algorithm_name = str(algorithm).split(' ')[0].split('.')[-1]\n",
    "    tmp = pd.concat([tmp, pd.Series([algorithm_name], index=['Algorithm'])])\n",
    "    benchmark.append(tmp)\n",
    "    \n",
    "# Create DataFrame from benchmark results and sort by test_rmse\n",
    "benchmark_df = pd.DataFrame(benchmark).set_index('Algorithm').sort_values('test_rmse')\n",
    "\n",
    "print(benchmark_df)"
   ]
  },
  {
   "cell_type": "code",
   "execution_count": 17,
   "id": "1a378da1",
   "metadata": {
    "execution": {
     "iopub.execute_input": "2024-03-02T16:18:10.348716Z",
     "iopub.status.busy": "2024-03-02T16:18:10.348074Z",
     "iopub.status.idle": "2024-03-02T16:18:10.615937Z",
     "shell.execute_reply": "2024-03-02T16:18:10.614622Z"
    },
    "papermill": {
     "duration": 0.286283,
     "end_time": "2024-03-02T16:18:10.618770",
     "exception": false,
     "start_time": "2024-03-02T16:18:10.332487",
     "status": "completed"
    },
    "tags": []
   },
   "outputs": [
    {
     "data": {
      "image/png": "[encoded data removed]",
      "text/plain": [
       "<Figure size 640x480 with 1 Axes>"
      ]
     },
     "metadata": {},
     "output_type": "display_data"
    }
   ],
   "source": [
    "# Plot the bar chart\n",
    "benchmark_df.plot(kind='bar', y='test_rmse', legend=None)\n",
    "plt.xlabel('Algorithm')\n",
    "plt.ylabel('RMSE')\n",
    "plt.title('Comparison of Algorithms based on RMSE')\n",
    "plt.xticks(rotation=45)\n",
    "plt.show()"
   ]
  },
  {
   "cell_type": "code",
   "execution_count": 18,
   "id": "1af9fc4e",
   "metadata": {
    "execution": {
     "iopub.execute_input": "2024-03-02T16:18:10.651724Z",
     "iopub.status.busy": "2024-03-02T16:18:10.650651Z",
     "iopub.status.idle": "2024-03-02T16:18:13.397178Z",
     "shell.execute_reply": "2024-03-02T16:18:13.395751Z"
    },
    "papermill": {
     "duration": 2.7661,
     "end_time": "2024-03-02T16:18:13.400530",
     "exception": false,
     "start_time": "2024-03-02T16:18:10.634430",
     "status": "completed"
    },
    "tags": []
   },
   "outputs": [
    {
     "name": "stdout",
     "output_type": "stream",
     "text": [
      "Computing the pearson similarity matrix...\n",
      "Done computing similarity matrix.\n",
      "Computing the pearson similarity matrix...\n",
      "Done computing similarity matrix.\n",
      "Computing the pearson similarity matrix...\n",
      "Done computing similarity matrix.\n",
      "Computing the pearson similarity matrix...\n",
      "Done computing similarity matrix.\n",
      "Computing the pearson similarity matrix...\n",
      "Done computing similarity matrix.\n",
      "Computing the pearson similarity matrix...\n",
      "Done computing similarity matrix.\n",
      "Computing the pearson similarity matrix...\n",
      "Done computing similarity matrix.\n",
      "Computing the pearson similarity matrix...\n",
      "Done computing similarity matrix.\n",
      "Computing the pearson similarity matrix...\n",
      "Done computing similarity matrix.\n",
      "Computing the pearson similarity matrix...\n",
      "Done computing similarity matrix.\n",
      "Computing the pearson similarity matrix...\n",
      "Done computing similarity matrix.\n",
      "Computing the pearson similarity matrix...\n",
      "Done computing similarity matrix.\n",
      "Computing the pearson similarity matrix...\n",
      "Done computing similarity matrix.\n",
      "Computing the pearson similarity matrix...\n",
      "Done computing similarity matrix.\n",
      "Computing the pearson similarity matrix...\n",
      "Done computing similarity matrix.\n",
      "Computing the pearson similarity matrix...\n",
      "Done computing similarity matrix.\n",
      "Computing the pearson similarity matrix...\n",
      "Done computing similarity matrix.\n",
      "Computing the pearson similarity matrix...\n",
      "Done computing similarity matrix.\n",
      "Computing the pearson similarity matrix...\n",
      "Done computing similarity matrix.\n",
      "Computing the pearson similarity matrix...\n",
      "Done computing similarity matrix.\n",
      "Computing the pearson similarity matrix...\n",
      "Done computing similarity matrix.\n",
      "Computing the pearson similarity matrix...\n",
      "Done computing similarity matrix.\n",
      "Computing the pearson similarity matrix...\n",
      "Done computing similarity matrix.\n",
      "Computing the pearson similarity matrix...\n",
      "Done computing similarity matrix.\n",
      "Computing the pearson similarity matrix...\n",
      "Done computing similarity matrix.\n",
      "Best k: 40\n",
      "RMSE with best k: 2.229396676427484\n"
     ]
    }
   ],
   "source": [
    "#Look for the best value of K using the KNNBasic algorithm\n",
    "\n",
    "# Define a range of values for k\n",
    "k_values = [5, 10, 20, 30, 40]\n",
    "\n",
    "# Dictionary to store RMSE for each k\n",
    "rmse_scores = {}\n",
    "\n",
    "# Iterate through each k value\n",
    "for k in k_values:\n",
    "    # Create a KNNBasic model with the current k value\n",
    "    algo = KNNBasic(k=k, sim_options={'name': 'pearson', 'user_based': True})\n",
    "\n",
    "    # Perform cross-validation\n",
    "    results = cross_validate(algo, data, measures=['RMSE'], cv=5, verbose=False)\n",
    "\n",
    "    # Calculate average RMSE\n",
    "    avg_rmse = np.mean(results['test_rmse'])\n",
    "\n",
    "    # Store the RMSE score\n",
    "    rmse_scores[k] = avg_rmse\n",
    "\n",
    "# Find the k value with the lowest RMSE\n",
    "best_k = min(rmse_scores, key=rmse_scores.get)\n",
    "best_rmse = rmse_scores[best_k]\n",
    "\n",
    "print(\"Best k:\", best_k)\n",
    "print(\"RMSE with best k:\", best_rmse)"
   ]
  },
  {
   "cell_type": "code",
   "execution_count": 19,
   "id": "ea28547b",
   "metadata": {
    "execution": {
     "iopub.execute_input": "2024-03-02T16:18:13.436619Z",
     "iopub.status.busy": "2024-03-02T16:18:13.436142Z",
     "iopub.status.idle": "2024-03-02T16:18:13.745361Z",
     "shell.execute_reply": "2024-03-02T16:18:13.743643Z"
    },
    "papermill": {
     "duration": 0.331462,
     "end_time": "2024-03-02T16:18:13.748462",
     "exception": false,
     "start_time": "2024-03-02T16:18:13.417000",
     "status": "completed"
    },
    "tags": []
   },
   "outputs": [
    {
     "data": {
      "image/png": "[encoded data removed]",
      "text/plain": [
       "<Figure size 640x480 with 1 Axes>"
      ]
     },
     "metadata": {},
     "output_type": "display_data"
    }
   ],
   "source": [
    "#make a plot of those results\n",
    "\n",
    "# Plot RMSE scores for different k values\n",
    "plt.plot(list(rmse_scores.keys()), list(rmse_scores.values()), marker='o')\n",
    "plt.title('RMSE vs. k Value')\n",
    "plt.xlabel('k')\n",
    "plt.ylabel('RMSE')\n",
    "plt.xticks(list(rmse_scores.keys()))\n",
    "plt.grid(True)\n",
    "plt.show()"
   ]
  }
 ],
 "metadata": {
  "kaggle": {
   "accelerator": "none",
   "dataSources": [
    {
     "datasetId": 4465026,
     "sourceId": 7657998,
     "sourceType": "datasetVersion"
    }
   ],
   "dockerImageVersionId": 30646,
   "isGpuEnabled": false,
   "isInternetEnabled": true,
   "language": "python",
   "sourceType": "notebook"
  },
  "kernelspec": {
   "display_name": "Python 3",
   "language": "python",
   "name": "python3"
  },
  "language_info": {
   "codemirror_mode": {
    "name": "ipython",
    "version": 3
   },
   "file_extension": ".py",
   "mimetype": "text/x-python",
   "name": "python",
   "nbconvert_exporter": "python",
   "pygments_lexer": "ipython3",
   "version": "3.10.13"
  },
  "papermill": {
   "default_parameters": {},
   "duration": 37.826112,
   "end_time": "2024-03-02T16:18:14.690937",
   "environment_variables": {},
   "exception": null,
   "input_path": "__notebook__.ipynb",
   "output_path": "__notebook__.ipynb",
   "parameters": {},
   "start_time": "2024-03-02T16:17:36.864825",
   "version": "2.5.0"
  }
 },
 "nbformat": 4,
 "nbformat_minor": 5
}
